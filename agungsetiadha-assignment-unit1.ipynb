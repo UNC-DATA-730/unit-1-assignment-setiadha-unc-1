{
 "cells": [
  {
   "cell_type": "code",
   "execution_count": 1,
   "id": "b93f54b4-5f08-473a-96c8-66ccda94a140",
   "metadata": {
    "tags": []
   },
   "outputs": [
    {
     "data": {
      "text/html": [
       "<span style=white-space:pre-wrap>'data730               *  /home/studio-lab-user/.conda/envs/data730'</span>"
      ],
      "text/latex": [
       "'data730               *  /home/studio-lab-user/.conda/envs/data730'"
      ],
      "text/markdown": [
       "<span style=white-space:pre-wrap>'data730               *  /home/studio-lab-user/.conda/envs/data730'</span>"
      ],
      "text/plain": [
       "[1] \"data730               *  /home/studio-lab-user/.conda/envs/data730\""
      ]
     },
     "metadata": {},
     "output_type": "display_data"
    }
   ],
   "source": [
    "system('conda env list | grep data730', intern = TRUE)"
   ]
  },
  {
   "cell_type": "code",
   "execution_count": 2,
   "id": "36f8bb57-e8a3-4619-bfc3-040822e2b368",
   "metadata": {
    "tags": []
   },
   "outputs": [
    {
     "name": "stderr",
     "output_type": "stream",
     "text": [
      "Warning message:\n",
      "“Your system is mis-configured: ‘/var/db/timezone/localtime’ is not a symlink”\n",
      "Warning message:\n",
      "“‘/var/db/timezone/localtime’ is not identical to any known timezone file”\n",
      "── \u001b[1mAttaching core tidyverse packages\u001b[22m ──────────────────────── tidyverse 2.0.0 ──\n",
      "\u001b[32m✔\u001b[39m \u001b[34mforcats  \u001b[39m 1.0.0     \u001b[32m✔\u001b[39m \u001b[34mreadr    \u001b[39m 2.1.5\n",
      "\u001b[32m✔\u001b[39m \u001b[34mggplot2  \u001b[39m 3.5.1     \u001b[32m✔\u001b[39m \u001b[34mstringr  \u001b[39m 1.5.1\n",
      "\u001b[32m✔\u001b[39m \u001b[34mlubridate\u001b[39m 1.9.3     \u001b[32m✔\u001b[39m \u001b[34mtibble   \u001b[39m 3.2.1\n",
      "\u001b[32m✔\u001b[39m \u001b[34mpurrr    \u001b[39m 1.0.2     \u001b[32m✔\u001b[39m \u001b[34mtidyr    \u001b[39m 1.3.1\n",
      "── \u001b[1mAttaching packages\u001b[22m ────────────────────────────────────── tidymodels 1.2.0 ──\n",
      "\n",
      "\u001b[32m✔\u001b[39m \u001b[34mbroom       \u001b[39m 1.0.6     \u001b[32m✔\u001b[39m \u001b[34mrsample     \u001b[39m 1.2.1\n",
      "\u001b[32m✔\u001b[39m \u001b[34mdials       \u001b[39m 1.2.1     \u001b[32m✔\u001b[39m \u001b[34mtune        \u001b[39m 1.2.1\n",
      "\u001b[32m✔\u001b[39m \u001b[34minfer       \u001b[39m 1.0.7     \u001b[32m✔\u001b[39m \u001b[34mworkflows   \u001b[39m 1.1.4\n",
      "\u001b[32m✔\u001b[39m \u001b[34mmodeldata   \u001b[39m 1.4.0     \u001b[32m✔\u001b[39m \u001b[34mworkflowsets\u001b[39m 1.1.0\n",
      "\u001b[32m✔\u001b[39m \u001b[34mparsnip     \u001b[39m 1.2.1     \u001b[32m✔\u001b[39m \u001b[34myardstick   \u001b[39m 1.3.1\n",
      "\u001b[32m✔\u001b[39m \u001b[34mrecipes     \u001b[39m 1.1.0     \n",
      "\n"
     ]
    }
   ],
   "source": [
    "library('conflicted')\n",
    "library('dplyr')\n",
    "library('tidyverse')\n",
    "library('tidymodels')\n",
    "library('recipes')\n",
    "library('workflows')"
   ]
  },
  {
   "cell_type": "code",
   "execution_count": 3,
   "id": "b3eb9abc-b309-47f6-82b0-d86e5fb33352",
   "metadata": {
    "tags": []
   },
   "outputs": [
    {
     "data": {
      "text/html": [
       "<table class=\"dataframe\">\n",
       "<caption>A tibble: 6 × 12</caption>\n",
       "<thead>\n",
       "\t<tr><th scope=col>era</th><th scope=col>season_number</th><th scope=col>serial_title</th><th scope=col>story_number</th><th scope=col>episode_number</th><th scope=col>episode_title</th><th scope=col>type</th><th scope=col>first_aired</th><th scope=col>production_code</th><th scope=col>uk_viewers</th><th scope=col>rating</th><th scope=col>duration</th></tr>\n",
       "\t<tr><th scope=col>&lt;chr&gt;</th><th scope=col>&lt;dbl&gt;</th><th scope=col>&lt;chr&gt;</th><th scope=col>&lt;chr&gt;</th><th scope=col>&lt;dbl&gt;</th><th scope=col>&lt;chr&gt;</th><th scope=col>&lt;chr&gt;</th><th scope=col>&lt;date&gt;</th><th scope=col>&lt;chr&gt;</th><th scope=col>&lt;dbl&gt;</th><th scope=col>&lt;dbl&gt;</th><th scope=col>&lt;dbl&gt;</th></tr>\n",
       "</thead>\n",
       "<tbody>\n",
       "\t<tr><td>revived</td><td>1</td><td>NA</td><td>157 </td><td>1</td><td>Rose                </td><td>episode</td><td>2005-03-26</td><td>1.1</td><td>10.81</td><td>76</td><td>45</td></tr>\n",
       "\t<tr><td>revived</td><td>1</td><td>NA</td><td>158 </td><td>2</td><td>The End of the World</td><td>episode</td><td>2005-04-02</td><td>1.2</td><td> 7.97</td><td>76</td><td>44</td></tr>\n",
       "\t<tr><td>revived</td><td>1</td><td>NA</td><td>159 </td><td>3</td><td>The Unquiet Dead    </td><td>episode</td><td>2005-04-09</td><td>1.3</td><td> 8.86</td><td>80</td><td>44</td></tr>\n",
       "\t<tr><td>revived</td><td>1</td><td>NA</td><td>160a</td><td>4</td><td>Aliens of London    </td><td>episode</td><td>2005-04-16</td><td>1.4</td><td> 7.63</td><td>82</td><td>45</td></tr>\n",
       "\t<tr><td>revived</td><td>1</td><td>NA</td><td>160b</td><td>5</td><td>World War Three     </td><td>episode</td><td>2005-04-23</td><td>1.5</td><td> 7.98</td><td>81</td><td>42</td></tr>\n",
       "\t<tr><td>revived</td><td>1</td><td>NA</td><td>161 </td><td>6</td><td>Dalek               </td><td>episode</td><td>2005-04-30</td><td>1.6</td><td> 8.63</td><td>84</td><td>45</td></tr>\n",
       "</tbody>\n",
       "</table>\n"
      ],
      "text/latex": [
       "A tibble: 6 × 12\n",
       "\\begin{tabular}{llllllllllll}\n",
       " era & season\\_number & serial\\_title & story\\_number & episode\\_number & episode\\_title & type & first\\_aired & production\\_code & uk\\_viewers & rating & duration\\\\\n",
       " <chr> & <dbl> & <chr> & <chr> & <dbl> & <chr> & <chr> & <date> & <chr> & <dbl> & <dbl> & <dbl>\\\\\n",
       "\\hline\n",
       "\t revived & 1 & NA & 157  & 1 & Rose                 & episode & 2005-03-26 & 1.1 & 10.81 & 76 & 45\\\\\n",
       "\t revived & 1 & NA & 158  & 2 & The End of the World & episode & 2005-04-02 & 1.2 &  7.97 & 76 & 44\\\\\n",
       "\t revived & 1 & NA & 159  & 3 & The Unquiet Dead     & episode & 2005-04-09 & 1.3 &  8.86 & 80 & 44\\\\\n",
       "\t revived & 1 & NA & 160a & 4 & Aliens of London     & episode & 2005-04-16 & 1.4 &  7.63 & 82 & 45\\\\\n",
       "\t revived & 1 & NA & 160b & 5 & World War Three      & episode & 2005-04-23 & 1.5 &  7.98 & 81 & 42\\\\\n",
       "\t revived & 1 & NA & 161  & 6 & Dalek                & episode & 2005-04-30 & 1.6 &  8.63 & 84 & 45\\\\\n",
       "\\end{tabular}\n"
      ],
      "text/markdown": [
       "\n",
       "A tibble: 6 × 12\n",
       "\n",
       "| era &lt;chr&gt; | season_number &lt;dbl&gt; | serial_title &lt;chr&gt; | story_number &lt;chr&gt; | episode_number &lt;dbl&gt; | episode_title &lt;chr&gt; | type &lt;chr&gt; | first_aired &lt;date&gt; | production_code &lt;chr&gt; | uk_viewers &lt;dbl&gt; | rating &lt;dbl&gt; | duration &lt;dbl&gt; |\n",
       "|---|---|---|---|---|---|---|---|---|---|---|---|\n",
       "| revived | 1 | NA | 157  | 1 | Rose                 | episode | 2005-03-26 | 1.1 | 10.81 | 76 | 45 |\n",
       "| revived | 1 | NA | 158  | 2 | The End of the World | episode | 2005-04-02 | 1.2 |  7.97 | 76 | 44 |\n",
       "| revived | 1 | NA | 159  | 3 | The Unquiet Dead     | episode | 2005-04-09 | 1.3 |  8.86 | 80 | 44 |\n",
       "| revived | 1 | NA | 160a | 4 | Aliens of London     | episode | 2005-04-16 | 1.4 |  7.63 | 82 | 45 |\n",
       "| revived | 1 | NA | 160b | 5 | World War Three      | episode | 2005-04-23 | 1.5 |  7.98 | 81 | 42 |\n",
       "| revived | 1 | NA | 161  | 6 | Dalek                | episode | 2005-04-30 | 1.6 |  8.63 | 84 | 45 |\n",
       "\n"
      ],
      "text/plain": [
       "  era     season_number serial_title story_number episode_number\n",
       "1 revived 1             NA           157          1             \n",
       "2 revived 1             NA           158          2             \n",
       "3 revived 1             NA           159          3             \n",
       "4 revived 1             NA           160a         4             \n",
       "5 revived 1             NA           160b         5             \n",
       "6 revived 1             NA           161          6             \n",
       "  episode_title        type    first_aired production_code uk_viewers rating\n",
       "1 Rose                 episode 2005-03-26  1.1             10.81      76    \n",
       "2 The End of the World episode 2005-04-02  1.2              7.97      76    \n",
       "3 The Unquiet Dead     episode 2005-04-09  1.3              8.86      80    \n",
       "4 Aliens of London     episode 2005-04-16  1.4              7.63      82    \n",
       "5 World War Three      episode 2005-04-23  1.5              7.98      81    \n",
       "6 Dalek                episode 2005-04-30  1.6              8.63      84    \n",
       "  duration\n",
       "1 45      \n",
       "2 44      \n",
       "3 44      \n",
       "4 45      \n",
       "5 42      \n",
       "6 45      "
      ]
     },
     "metadata": {},
     "output_type": "display_data"
    }
   ],
   "source": [
    "data_url = \"https://raw.githubusercontent.com/rfordatascience/tidytuesday/master/data/2021/2021-11-23/episodes.csv\"\n",
    "dr_who_raw = read_csv(data_url, col_types = cols())\n",
    "dr_who_raw |> head()"
   ]
  },
  {
   "cell_type": "code",
   "execution_count": 4,
   "id": "e6d6dbb5-76c0-4dbc-b857-21481d2cee6e",
   "metadata": {
    "tags": []
   },
   "outputs": [
    {
     "data": {
      "text/html": [
       "<table class=\"dataframe\">\n",
       "<caption>A tibble: 6 × 12</caption>\n",
       "<thead>\n",
       "\t<tr><th scope=col>era</th><th scope=col>season_number</th><th scope=col>serial_title</th><th scope=col>story_number</th><th scope=col>episode_number</th><th scope=col>episode_title</th><th scope=col>type</th><th scope=col>first_aired</th><th scope=col>production_code</th><th scope=col>uk_viewers</th><th scope=col>rating</th><th scope=col>duration</th></tr>\n",
       "\t<tr><th scope=col>&lt;chr&gt;</th><th scope=col>&lt;dbl&gt;</th><th scope=col>&lt;chr&gt;</th><th scope=col>&lt;chr&gt;</th><th scope=col>&lt;dbl&gt;</th><th scope=col>&lt;chr&gt;</th><th scope=col>&lt;chr&gt;</th><th scope=col>&lt;date&gt;</th><th scope=col>&lt;chr&gt;</th><th scope=col>&lt;dbl&gt;</th><th scope=col>&lt;dbl&gt;</th><th scope=col>&lt;dbl&gt;</th></tr>\n",
       "</thead>\n",
       "<tbody>\n",
       "\t<tr><td>revived</td><td>13</td><td>Flux</td><td>297a</td><td>1</td><td>The Halloween Apocalypse</td><td>episode</td><td>2021-10-31</td><td>NA</td><td>5.79</td><td>76</td><td>50</td></tr>\n",
       "\t<tr><td>revived</td><td>13</td><td>Flux</td><td>297b</td><td>2</td><td>War of the Sontarans    </td><td>episode</td><td>2021-11-07</td><td>NA</td><td>  NA</td><td>77</td><td>59</td></tr>\n",
       "\t<tr><td>revived</td><td>13</td><td>Flux</td><td>297c</td><td>3</td><td>Once, Upon Time         </td><td>episode</td><td>2021-11-14</td><td>NA</td><td>  NA</td><td>NA</td><td>49</td></tr>\n",
       "\t<tr><td>revived</td><td>13</td><td>Flux</td><td>297d</td><td>4</td><td>Village of the Angels   </td><td>episode</td><td>2021-11-21</td><td>NA</td><td>  NA</td><td>NA</td><td>NA</td></tr>\n",
       "\t<tr><td>revived</td><td>13</td><td>Flux</td><td>297e</td><td>5</td><td>Survivors of the Flux   </td><td>episode</td><td>2021-11-28</td><td>NA</td><td>  NA</td><td>NA</td><td>NA</td></tr>\n",
       "\t<tr><td>revived</td><td>13</td><td>Flux</td><td>297f</td><td>6</td><td>NA                      </td><td>episode</td><td>2021-12-05</td><td>NA</td><td>  NA</td><td>NA</td><td>NA</td></tr>\n",
       "</tbody>\n",
       "</table>\n"
      ],
      "text/latex": [
       "A tibble: 6 × 12\n",
       "\\begin{tabular}{llllllllllll}\n",
       " era & season\\_number & serial\\_title & story\\_number & episode\\_number & episode\\_title & type & first\\_aired & production\\_code & uk\\_viewers & rating & duration\\\\\n",
       " <chr> & <dbl> & <chr> & <chr> & <dbl> & <chr> & <chr> & <date> & <chr> & <dbl> & <dbl> & <dbl>\\\\\n",
       "\\hline\n",
       "\t revived & 13 & Flux & 297a & 1 & The Halloween Apocalypse & episode & 2021-10-31 & NA & 5.79 & 76 & 50\\\\\n",
       "\t revived & 13 & Flux & 297b & 2 & War of the Sontarans     & episode & 2021-11-07 & NA &   NA & 77 & 59\\\\\n",
       "\t revived & 13 & Flux & 297c & 3 & Once, Upon Time          & episode & 2021-11-14 & NA &   NA & NA & 49\\\\\n",
       "\t revived & 13 & Flux & 297d & 4 & Village of the Angels    & episode & 2021-11-21 & NA &   NA & NA & NA\\\\\n",
       "\t revived & 13 & Flux & 297e & 5 & Survivors of the Flux    & episode & 2021-11-28 & NA &   NA & NA & NA\\\\\n",
       "\t revived & 13 & Flux & 297f & 6 & NA                       & episode & 2021-12-05 & NA &   NA & NA & NA\\\\\n",
       "\\end{tabular}\n"
      ],
      "text/markdown": [
       "\n",
       "A tibble: 6 × 12\n",
       "\n",
       "| era &lt;chr&gt; | season_number &lt;dbl&gt; | serial_title &lt;chr&gt; | story_number &lt;chr&gt; | episode_number &lt;dbl&gt; | episode_title &lt;chr&gt; | type &lt;chr&gt; | first_aired &lt;date&gt; | production_code &lt;chr&gt; | uk_viewers &lt;dbl&gt; | rating &lt;dbl&gt; | duration &lt;dbl&gt; |\n",
       "|---|---|---|---|---|---|---|---|---|---|---|---|\n",
       "| revived | 13 | Flux | 297a | 1 | The Halloween Apocalypse | episode | 2021-10-31 | NA | 5.79 | 76 | 50 |\n",
       "| revived | 13 | Flux | 297b | 2 | War of the Sontarans     | episode | 2021-11-07 | NA |   NA | 77 | 59 |\n",
       "| revived | 13 | Flux | 297c | 3 | Once, Upon Time          | episode | 2021-11-14 | NA |   NA | NA | 49 |\n",
       "| revived | 13 | Flux | 297d | 4 | Village of the Angels    | episode | 2021-11-21 | NA |   NA | NA | NA |\n",
       "| revived | 13 | Flux | 297e | 5 | Survivors of the Flux    | episode | 2021-11-28 | NA |   NA | NA | NA |\n",
       "| revived | 13 | Flux | 297f | 6 | NA                       | episode | 2021-12-05 | NA |   NA | NA | NA |\n",
       "\n"
      ],
      "text/plain": [
       "  era     season_number serial_title story_number episode_number\n",
       "1 revived 13            Flux         297a         1             \n",
       "2 revived 13            Flux         297b         2             \n",
       "3 revived 13            Flux         297c         3             \n",
       "4 revived 13            Flux         297d         4             \n",
       "5 revived 13            Flux         297e         5             \n",
       "6 revived 13            Flux         297f         6             \n",
       "  episode_title            type    first_aired production_code uk_viewers\n",
       "1 The Halloween Apocalypse episode 2021-10-31  NA              5.79      \n",
       "2 War of the Sontarans     episode 2021-11-07  NA                NA      \n",
       "3 Once, Upon Time          episode 2021-11-14  NA                NA      \n",
       "4 Village of the Angels    episode 2021-11-21  NA                NA      \n",
       "5 Survivors of the Flux    episode 2021-11-28  NA                NA      \n",
       "6 NA                       episode 2021-12-05  NA                NA      \n",
       "  rating duration\n",
       "1 76     50      \n",
       "2 77     59      \n",
       "3 NA     49      \n",
       "4 NA     NA      \n",
       "5 NA     NA      \n",
       "6 NA     NA      "
      ]
     },
     "metadata": {},
     "output_type": "display_data"
    }
   ],
   "source": [
    "dr_who_raw |> tail()"
   ]
  },
  {
   "cell_type": "code",
   "execution_count": 5,
   "id": "e8dcc8c7-0c97-497d-8da8-9acbfc8aaede",
   "metadata": {
    "tags": []
   },
   "outputs": [
    {
     "name": "stdout",
     "output_type": "stream",
     "text": [
      "Rows: 172\n",
      "Columns: 12\n",
      "$ era             \u001b[3m\u001b[90m<chr>\u001b[39m\u001b[23m \"revived\", \"revived\", \"revived\", \"revived\", \"revived\",…\n",
      "$ season_number   \u001b[3m\u001b[90m<dbl>\u001b[39m\u001b[23m 1, 1, 1, 1, 1, 1, 1, 1, 1, 1, 1, 1, 1, 2, 2, 2, 2, 2, …\n",
      "$ serial_title    \u001b[3m\u001b[90m<chr>\u001b[39m\u001b[23m NA, NA, NA, NA, NA, NA, NA, NA, NA, NA, NA, NA, NA, NA…\n",
      "$ story_number    \u001b[3m\u001b[90m<chr>\u001b[39m\u001b[23m \"157\", \"158\", \"159\", \"160a\", \"160b\", \"161\", \"162\", \"16…\n",
      "$ episode_number  \u001b[3m\u001b[90m<dbl>\u001b[39m\u001b[23m 1, 2, 3, 4, 5, 6, 7, 8, 9, 10, 11, 12, 13, NA, 1, 2, 3…\n",
      "$ episode_title   \u001b[3m\u001b[90m<chr>\u001b[39m\u001b[23m \"Rose\", \"The End of the World\", \"The Unquiet Dead\", \"A…\n",
      "$ type            \u001b[3m\u001b[90m<chr>\u001b[39m\u001b[23m \"episode\", \"episode\", \"episode\", \"episode\", \"episode\",…\n",
      "$ first_aired     \u001b[3m\u001b[90m<date>\u001b[39m\u001b[23m 2005-03-26, 2005-04-02, 2005-04-09, 2005-04-16, 2005-…\n",
      "$ production_code \u001b[3m\u001b[90m<chr>\u001b[39m\u001b[23m \"1.1\", \"1.2\", \"1.3\", \"1.4\", \"1.5\", \"1.6\", \"1.7\", \"1.8\"…\n",
      "$ uk_viewers      \u001b[3m\u001b[90m<dbl>\u001b[39m\u001b[23m 10.81, 7.97, 8.86, 7.63, 7.98, 8.63, 8.01, 8.06, 7.11,…\n",
      "$ rating          \u001b[3m\u001b[90m<dbl>\u001b[39m\u001b[23m 76, 76, 80, 82, 81, 84, 81, 83, 84, 85, 82, 86, 89, 84…\n",
      "$ duration        \u001b[3m\u001b[90m<dbl>\u001b[39m\u001b[23m 45, 44, 44, 45, 42, 45, 44, 45, 45, 45, 45, 45, 45, 60…\n"
     ]
    }
   ],
   "source": [
    "dr_who_raw |> glimpse()"
   ]
  },
  {
   "cell_type": "code",
   "execution_count": 6,
   "id": "fe4b9d3e-431e-4f02-aa9c-d3e28adc9a79",
   "metadata": {
    "tags": []
   },
   "outputs": [
    {
     "name": "stderr",
     "output_type": "stream",
     "text": [
      "\u001b[1m\u001b[22m`stat_bin()` using `bins = 30`. Pick better value with `binwidth`.\n",
      "Warning message:\n",
      "“\u001b[1m\u001b[22mRemoved 5 rows containing non-finite outside the scale range (`stat_bin()`).”\n"
     ]
    },
    {
     "data": {
      "image/png": "[encoded data removed]",
      "text/plain": [
       "plot without title"
      ]
     },
     "metadata": {
      "image/png": {
       "height": 180,
       "width": 360
      }
     },
     "output_type": "display_data"
    }
   ],
   "source": [
    "options(repr.plot.height = 3, repr.plot.width = 6)\n",
    "ggplot(dr_who_raw, aes(x = uk_viewers)) + geom_histogram()"
   ]
  },
  {
   "cell_type": "code",
   "execution_count": 7,
   "id": "470a5324-9d40-4e02-8533-df4e2f454147",
   "metadata": {
    "tags": []
   },
   "outputs": [
    {
     "name": "stderr",
     "output_type": "stream",
     "text": [
      "Warning message:\n",
      "“\u001b[1m\u001b[22mRemoved 5 rows containing missing values or values outside the scale range\n",
      "(`geom_line()`).”\n"
     ]
    },
    {
     "data": {
      "image/png": "[encoded data removed]",
      "text/plain": [
       "plot without title"
      ]
     },
     "metadata": {
      "image/png": {
       "height": 180,
       "width": 360
      }
     },
     "output_type": "display_data"
    }
   ],
   "source": [
    "\n",
    "ggplot(dr_who_raw, aes(x = first_aired, y = uk_viewers)) + \n",
    "    geom_line(color = 'steelblue') +\n",
    "    scale_x_date(date_breaks = \"2 years\", date_labels = \"%Y\")"
   ]
  },
  {
   "cell_type": "code",
   "execution_count": 8,
   "id": "646fb2fb-8396-442e-90a8-db438912854f",
   "metadata": {
    "tags": []
   },
   "outputs": [
    {
     "data": {
      "text/html": [
       "<table class=\"dataframe\">\n",
       "<caption>A tibble: 9 × 2</caption>\n",
       "<thead>\n",
       "\t<tr><th scope=col>first_aired</th><th scope=col>episode_title</th></tr>\n",
       "\t<tr><th scope=col>&lt;date&gt;</th><th scope=col>&lt;chr&gt;</th></tr>\n",
       "</thead>\n",
       "<tbody>\n",
       "\t<tr><td>2005-06-18</td><td>The Parting of the Ways   </td></tr>\n",
       "\t<tr><td>2006-07-08</td><td>Doomsday                  </td></tr>\n",
       "\t<tr><td>2008-05-31</td><td>Silence in the Library    </td></tr>\n",
       "\t<tr><td>2008-06-07</td><td>Forest of the Dead        </td></tr>\n",
       "\t<tr><td>2008-06-28</td><td>The Stolen Earth          </td></tr>\n",
       "\t<tr><td>2008-07-05</td><td>Journey's End             </td></tr>\n",
       "\t<tr><td>2010-01-01</td><td>The End of Time – Part Two</td></tr>\n",
       "\t<tr><td>2010-06-26</td><td>The Big Bang              </td></tr>\n",
       "\t<tr><td>2012-09-01</td><td>Asylum of the Daleks      </td></tr>\n",
       "</tbody>\n",
       "</table>\n"
      ],
      "text/latex": [
       "A tibble: 9 × 2\n",
       "\\begin{tabular}{ll}\n",
       " first\\_aired & episode\\_title\\\\\n",
       " <date> & <chr>\\\\\n",
       "\\hline\n",
       "\t 2005-06-18 & The Parting of the Ways   \\\\\n",
       "\t 2006-07-08 & Doomsday                  \\\\\n",
       "\t 2008-05-31 & Silence in the Library    \\\\\n",
       "\t 2008-06-07 & Forest of the Dead        \\\\\n",
       "\t 2008-06-28 & The Stolen Earth          \\\\\n",
       "\t 2008-07-05 & Journey's End             \\\\\n",
       "\t 2010-01-01 & The End of Time – Part Two\\\\\n",
       "\t 2010-06-26 & The Big Bang              \\\\\n",
       "\t 2012-09-01 & Asylum of the Daleks      \\\\\n",
       "\\end{tabular}\n"
      ],
      "text/markdown": [
       "\n",
       "A tibble: 9 × 2\n",
       "\n",
       "| first_aired &lt;date&gt; | episode_title &lt;chr&gt; |\n",
       "|---|---|\n",
       "| 2005-06-18 | The Parting of the Ways    |\n",
       "| 2006-07-08 | Doomsday                   |\n",
       "| 2008-05-31 | Silence in the Library     |\n",
       "| 2008-06-07 | Forest of the Dead         |\n",
       "| 2008-06-28 | The Stolen Earth           |\n",
       "| 2008-07-05 | Journey's End              |\n",
       "| 2010-01-01 | The End of Time – Part Two |\n",
       "| 2010-06-26 | The Big Bang               |\n",
       "| 2012-09-01 | Asylum of the Daleks       |\n",
       "\n"
      ],
      "text/plain": [
       "  first_aired episode_title             \n",
       "1 2005-06-18  The Parting of the Ways   \n",
       "2 2006-07-08  Doomsday                  \n",
       "3 2008-05-31  Silence in the Library    \n",
       "4 2008-06-07  Forest of the Dead        \n",
       "5 2008-06-28  The Stolen Earth          \n",
       "6 2008-07-05  Journey's End             \n",
       "7 2010-01-01  The End of Time – Part Two\n",
       "8 2010-06-26  The Big Bang              \n",
       "9 2012-09-01  Asylum of the Daleks      "
      ]
     },
     "metadata": {},
     "output_type": "display_data"
    }
   ],
   "source": [
    "dr_who_raw |>\n",
    "    top_n(rating, n = 3) |>\n",
    "    select(first_aired, episode_title)"
   ]
  },
  {
   "cell_type": "code",
   "execution_count": 9,
   "id": "d2c1938d-79e1-4383-aa4c-1fbf6797c98a",
   "metadata": {
    "tags": []
   },
   "outputs": [
    {
     "name": "stdout",
     "output_type": "stream",
     "text": [
      "Rows: 167\n",
      "Columns: 4\n",
      "$ uk_viewers               \u001b[3m\u001b[90m<dbl>\u001b[39m\u001b[23m 10.81, 7.97, 8.86, 7.63, 7.98, 8.63, 8.01, 8.…\n",
      "$ first_aired_year         \u001b[3m\u001b[90m<int>\u001b[39m\u001b[23m 2005, 2005, 2005, 2005, 2005, 2005, 2005, 200…\n",
      "$ first_aired_NewYearsDay  \u001b[3m\u001b[90m<int>\u001b[39m\u001b[23m 0, 0, 0, 0, 0, 0, 0, 0, 0, 0, 0, 0, 0, 0, 0, …\n",
      "$ first_aired_ChristmasDay \u001b[3m\u001b[90m<int>\u001b[39m\u001b[23m 0, 0, 0, 0, 0, 0, 0, 0, 0, 0, 0, 0, 0, 1, 0, …\n"
     ]
    }
   ],
   "source": [
    "rec = recipe( data = dr_who_raw, uk_viewers ~ first_aired) |>\n",
    "    step_naomit(uk_viewers) |>\n",
    "    step_date(first_aired, features = 'year') |>\n",
    "    step_holiday(first_aired, holidays = c('NewYearsDay', 'ChristmasDay'), keep_original_cols = FALSE) |>\n",
    "    prep()\n",
    "    \n",
    "rec |> bake(new_data = NULL) |> glimpse()\n",
    "     "
   ]
  },
  {
   "cell_type": "code",
   "execution_count": 11,
   "id": "b24761db-605b-4e33-8afe-236ac2c74f90",
   "metadata": {
    "tags": []
   },
   "outputs": [
    {
     "ename": "ERROR",
     "evalue": "\u001b[1m\u001b[33mError\u001b[39m in `add_recipe()`:\u001b[22m\n\u001b[33m!\u001b[39m Can't add a trained recipe to a workflow.\n",
     "output_type": "error",
     "traceback": [
      "\u001b[1m\u001b[33mError\u001b[39m in `add_recipe()`:\u001b[22m\n\u001b[33m!\u001b[39m Can't add a trained recipe to a workflow.\nTraceback:\n",
      "1. add_model(add_recipe(workflow(), rec), mod)",
      "2. add_action(x, action, \"model\")",
      "3. validate_is_workflow(x, call = call)",
      "4. is_workflow(x)",
      "5. add_recipe(workflow(), rec)",
      "6. new_action_recipe(recipe, blueprint)",
      "7. abort(\"Can't add a trained recipe to a workflow.\", call = call)",
      "8. signal_abort(cnd, .file)"
     ]
    }
   ],
   "source": [
    "mod = linear_reg() |> set_engine('lm')\n",
    "\n",
    "wf = workflow() |>\n",
    "    add_recipe(rec) |>\n",
    "    add_model(mod)"
   ]
  },
  {
   "cell_type": "code",
   "execution_count": 11,
   "id": "6914332b-0355-4867-9ff3-52c2c7268efa",
   "metadata": {},
   "outputs": [
    {
     "name": "stdout",
     "output_type": "stream",
     "text": [
      "Rows: 1,000\n",
      "Columns: 2\n",
      "$ splits \u001b[3m\u001b[90m<list>\u001b[39m\u001b[23m [<boot_split[172 x 68 x 172 x 12]>], [<boot_split[172 x 64 x 1…\n",
      "$ id     \u001b[3m\u001b[90m<chr>\u001b[39m\u001b[23m \"Bootstrap0001\", \"Bootstrap0002\", \"Bootstrap0003\", \"Bootstrap00…\n"
     ]
    }
   ],
   "source": [
    "boots = bootstraps(dr_who_raw, times = 1000)\n",
    "\n",
    "boots |> glimpse()"
   ]
  },
  {
   "cell_type": "code",
   "execution_count": 13,
   "id": "3bc150c5-ab9b-46cb-846a-06b6f5878f5a",
   "metadata": {
    "tags": []
   },
   "outputs": [],
   "source": [
    "toss_fair_coin_n_times = function(n_tosses = 250) {\n",
    "    result = ifelse(runif(n = n_tosses) < 0.5, 'heads', 'tails')\n",
    "    result\n",
    "}\n",
    "\n",
    "repeat_the_experiment = function(n_iterations, n_tosses = 250) {\n",
    "    n_heads_each_iteration = c()\n",
    "    for (i in 1:n_iterations) {\n",
    "        n_heads = sum(toss_fair_coin_n_times(n_tosses) == 'heads')\n",
    "        n_heads_each_iteration = c(n_heads_each_iteration, n_heads)\n",
    "    }\n",
    "    n_heads_each_iteration\n",
    "}"
   ]
  },
  {
   "cell_type": "code",
   "execution_count": 14,
   "id": "bfe4e1ca-9fb4-4d80-a8ba-421de4e494ab",
   "metadata": {
    "tags": []
   },
   "outputs": [
    {
     "data": {
      "text/html": [
       "'With a fair coin we could expect a deviation as large or larger than we observed 8.49% of times'"
      ],
      "text/latex": [
       "'With a fair coin we could expect a deviation as large or larger than we observed 8.49\\% of times'"
      ],
      "text/markdown": [
       "'With a fair coin we could expect a deviation as large or larger than we observed 8.49% of times'"
      ],
      "text/plain": [
       "[1] \"With a fair coin we could expect a deviation as large or larger than we observed 8.49% of times\""
      ]
     },
     "metadata": {},
     "output_type": "display_data"
    }
   ],
   "source": [
    "n_iterations = 10000\n",
    "n_tosses = 250\n",
    "observed_deviation = 139 - 125 #heads observed, expected value for a fair coin of 125\n",
    "\n",
    "n_heads_each_experiment = repeat_the_experiment(n_iterations, n_tosses)\n",
    "\n",
    "x = mean(abs(n_heads_each_experiment - 125) >= observed_deviation)\n",
    "paste0('With a fair coin we could expect a deviation as large or larger than we observed ', x*100, '% of times')"
   ]
  },
  {
   "cell_type": "code",
   "execution_count": null,
   "id": "29a524f4-d612-4b09-b386-12d06f65ebef",
   "metadata": {},
   "outputs": [],
   "source": []
  }
 ],
 "metadata": {
  "kernelspec": {
   "display_name": ".conda-data730:R",
   "language": "R",
   "name": "conda-env-.conda-data730-r"
  },
  "language_info": {
   "codemirror_mode": "r",
   "file_extension": ".r",
   "mimetype": "text/x-r-source",
   "name": "R",
   "pygments_lexer": "r",
   "version": "4.3.3"
  }
 },
 "nbformat": 4,
 "nbformat_minor": 5
}
